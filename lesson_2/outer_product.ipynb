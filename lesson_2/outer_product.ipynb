{
 "cells": [
  {
   "cell_type": "code",
   "execution_count": 9,
   "metadata": {
    "collapsed": true
   },
   "outputs": [
    {
     "name": "stdout",
     "output_type": "stream",
     "text": [
      "[[-1  0  1]\n",
      " [-3  0  3]\n",
      " [-2  0  2]]\n",
      " \n",
      "[[-1.  0.  1.]\n",
      " [-3.  0.  3.]\n",
      " [-2.  0.  2.]]\n"
     ]
    }
   ],
   "source": [
    "import numpy as np\n",
    "\n",
    "v1 = np.array([1,3,2])\n",
    "v2 = np.array([-1,0,1])\n",
    "\n",
    "# outer product\n",
    "outer_product_1 = np.outer(v1, v2) # simplified version (matrix of ints)\n",
    "\n",
    "outer_product_2 = np.zeros((len(v1), len(v1))) # detailed version (matrix of floats)\n",
    "for i in range(0, len(v1)):\n",
    "    for j in range(0, len(v2)):\n",
    "        outer_product_2[i, j] = v1[i] * v2[j]\n",
    "\n",
    "print(outer_product_1)\n",
    "print(' ')\n",
    "print(outer_product_2)"
   ]
  }
 ],
 "metadata": {
  "kernelspec": {
   "display_name": "Python 3",
   "language": "python",
   "name": "python3"
  },
  "language_info": {
   "codemirror_mode": {
    "name": "ipython",
    "version": 2
   },
   "file_extension": ".py",
   "mimetype": "text/x-python",
   "name": "python",
   "nbconvert_exporter": "python",
   "pygments_lexer": "ipython2",
   "version": "2.7.6"
  }
 },
 "nbformat": 4,
 "nbformat_minor": 0
}