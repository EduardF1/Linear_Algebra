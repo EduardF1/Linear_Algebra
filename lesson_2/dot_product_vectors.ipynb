{
 "cells": [
  {
   "cell_type": "code",
   "execution_count": 3,
   "metadata": {
    "collapsed": true
   },
   "outputs": [
    {
     "name": "stdout",
     "output_type": "stream",
     "text": [
      "31.336879231984796 76.81145747868608 982.0\n",
      " \n",
      "[-1.0849836   0.28720154 -0.15955641 -0.63822565] [-0.66396345 -0.55981232  0.48169897  0.11717002]\n",
      " \n",
      "0.4079714180749696\n"
     ]
    }
   ],
   "source": [
    "import numpy as np\n",
    "\n",
    "# create two random integer vectors (R4)\n",
    "n = 4\n",
    "v1 = np.round(20 * np.random.randn(n))\n",
    "v2 = np.round(20 * np.random.randn(n))\n",
    "\n",
    "# compute lengths of the individual vectors,\n",
    "# and the magnitude of their product\n",
    "v1m = np.sqrt(np.dot(v1, v2))\n",
    "v2m = np.sqrt(np.dot(v2, v2))\n",
    "dpm = np.abs(np.dot(v1, v2))\n",
    "print(v1m, v2m, dpm)\n",
    "print(' ')\n",
    "\n",
    "# 'normalize' the vectors\n",
    "v1u = v1 / v1m\n",
    "v2u = v2 / v2m\n",
    "print(v1u, v2u)\n",
    "print(' ')\n",
    "\n",
    "# compute magnitude of that dot product\n",
    "dpm = np.abs(np.dot(v1u, v2u))\n",
    "print(dpm)"
   ]
  }
 ],
 "metadata": {
  "kernelspec": {
   "display_name": "Python 3",
   "language": "python",
   "name": "python3"
  },
  "language_info": {
   "codemirror_mode": {
    "name": "ipython",
    "version": 2
   },
   "file_extension": ".py",
   "mimetype": "text/x-python",
   "name": "python",
   "nbconvert_exporter": "python",
   "pygments_lexer": "ipython2",
   "version": "2.7.6"
  }
 },
 "nbformat": 4,
 "nbformat_minor": 0
}