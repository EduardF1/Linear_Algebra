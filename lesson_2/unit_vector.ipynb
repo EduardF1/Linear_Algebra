{
 "cells": [
  {
   "cell_type": "code",
   "execution_count": 2,
   "outputs": [
    {
     "data": {
      "text/plain": "<Figure size 432x288 with 1 Axes>",
      "image/png": "[encoded data removed]"
     },
     "metadata": {
      "needs_background": "light"
     },
     "output_type": "display_data"
    }
   ],
   "source": [
    "# vector\n",
    "import matplotlib.pyplot as plt\n",
    "import numpy as np\n",
    "\n",
    "v1 = np.array([-.3, .6])\n",
    "\n",
    "# mu (miu)\n",
    "mu = 1 / np.linalg.norm(v1)\n",
    "\n",
    "v1n = v1 * mu\n",
    "\n",
    "# plot\n",
    "plt.plot([0, v1n[0]], [0, v1n[1]], v1n[1], 'r', label='v1-norm', linewidth=5)\n",
    "plt.plot([0, v1[0]], [0, v1[1]], 'b', label='v1')\n",
    "\n",
    "# axis square\n",
    "plt.axis('square')\n",
    "plt.axis((-6, 6, -6, 6))\n",
    "plt.grid()\n",
    "plt.legend()\n",
    "plt.show()\n",
    "\n"
   ],
   "metadata": {
    "collapsed": false,
    "pycharm": {
     "name": "#%%\n"
    }
   }
  }
 ],
 "metadata": {
  "kernelspec": {
   "display_name": "Python 3",
   "language": "python",
   "name": "python3"
  },
  "language_info": {
   "codemirror_mode": {
    "name": "ipython",
    "version": 2
   },
   "file_extension": ".py",
   "mimetype": "text/x-python",
   "name": "python",
   "nbconvert_exporter": "python",
   "pygments_lexer": "ipython2",
   "version": "2.7.6"
  }
 },
 "nbformat": 4,
 "nbformat_minor": 0
}