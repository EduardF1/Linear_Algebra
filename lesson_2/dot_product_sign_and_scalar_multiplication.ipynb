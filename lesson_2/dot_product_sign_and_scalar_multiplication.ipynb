{
 "cells": [
  {
   "cell_type": "code",
   "execution_count": 1,
   "metadata": {
    "collapsed": true
   },
   "outputs": [
    {
     "name": "stdout",
     "output_type": "stream",
     "text": [
      "Original dot product: 0\n",
      "Scaled dot product: 0\n"
     ]
    }
   ],
   "source": [
    "# generate two 3D/R3 vectors\n",
    "import numpy as np\n",
    "\n",
    "v1 = np.array([-3,4,5])\n",
    "v2 = np.array([3,6,-3])\n",
    "\n",
    "# generate two scalars\n",
    "s1 = 2\n",
    "s2 = 3\n",
    "\n",
    "# compute dot product of vectors\n",
    "print('Original dot product: ' + str(np.dot(v1, v2)))\n",
    "\n",
    "# compute dot product between scaled vectors\n",
    "print('Scaled dot product: ' + str(np.dot(v1*s1, v2*s2)))\n",
    "\n",
    "# as per the result, the vectors are orthogonal"
   ]
  }
 ],
 "metadata": {
  "kernelspec": {
   "display_name": "Python 3",
   "language": "python",
   "name": "python3"
  },
  "language_info": {
   "codemirror_mode": {
    "name": "ipython",
    "version": 2
   },
   "file_extension": ".py",
   "mimetype": "text/x-python",
   "name": "python",
   "nbconvert_exporter": "python",
   "pygments_lexer": "ipython2",
   "version": "2.7.6"
  }
 },
 "nbformat": 4,
 "nbformat_minor": 0
}