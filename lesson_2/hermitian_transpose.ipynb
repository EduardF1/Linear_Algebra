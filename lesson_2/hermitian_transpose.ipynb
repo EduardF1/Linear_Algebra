{
 "cells": [
  {
   "cell_type": "code",
   "execution_count": 10,
   "metadata": {
    "collapsed": true
   },
   "outputs": [
    {
     "name": "stdout",
     "output_type": "stream",
     "text": [
      "(3+4j)\n",
      "5.0\n",
      "(-7+24j)\n",
      "(25+0j)\n",
      "[3.+0.j 0.+4.j 5.+2.j 2.-5.j]\n",
      "[3.+0.j 0.+4.j 5.+2.j 2.-5.j]\n",
      "[3.-0.j 0.-4.j 5.-2.j 2.+5.j]\n"
     ]
    },
    {
     "name": "stderr",
     "output_type": "stream",
     "text": [
      "C:\\Users\\fisch\\AppData\\Local\\Temp/ipykernel_6300/2105151256.py:16: DeprecationWarning: `np.complex` is a deprecated alias for the builtin `complex`. To silence this warning, use `complex` by itself. Doing this will not modify any behavior and is safe. If you specifically wanted the numpy scalar type, use `np.complex128` here.\n",
      "Deprecated in NumPy 1.20; for more details and guidance: https://numpy.org/devdocs/release/1.20.0-notes.html#deprecations\n",
      "  v = np.array([3, 4j, 5 + 2j, np.complex(2, -5)])\n"
     ]
    }
   ],
   "source": [
    "# create a complex number\n",
    "import numpy as np\n",
    "\n",
    "z = complex(3, 4)\n",
    "print(z)  # j is equivalent to the typical `i` used to represent the imaginary part of the number\n",
    "# display the magnitude of the number\n",
    "print(np.linalg.norm(z))  # norm = 5\n",
    "\n",
    "# using base transpose\n",
    "print(np.transpose(z) * z)  # does not apply the hermitian transpose, as such the calculation is (3+4j)^2\n",
    "\n",
    "# using the hermitian transpose\n",
    "print(np.transpose(z.conjugate()) * z)  # (3+4j)(3-4j)\n",
    "\n",
    "# complex vector\n",
    "v = np.array([3, 4j, 5 + 2j, np.complex(2, -5)])\n",
    "print(v.T)  #   .T is equivalent to np.transpose(v)\n",
    "print(np.transpose(v))\n",
    "print(np.transpose(v.conjugate()))"
   ]
  }
 ],
 "metadata": {
  "kernelspec": {
   "display_name": "Python 3",
   "language": "python",
   "name": "python3"
  },
  "language_info": {
   "codemirror_mode": {
    "name": "ipython",
    "version": 2
   },
   "file_extension": ".py",
   "mimetype": "text/x-python",
   "name": "python",
   "nbconvert_exporter": "python",
   "pygments_lexer": "ipython2",
   "version": "2.7.6"
  }
 },
 "nbformat": 4,
 "nbformat_minor": 0
}