{
 "cells": [
  {
   "cell_type": "code",
   "execution_count": 15,
   "metadata": {
    "collapsed": true
   },
   "outputs": [
    {
     "name": "stdout",
     "output_type": "stream",
     "text": [
      "A:\n",
      "[[8 8 0 3 9 3]\n",
      " [7 8 3 0 0 8]\n",
      " [6 6 0 3 4 1]\n",
      " [4 9 6 5 4 4]]\n",
      " \n",
      "B:\n",
      "[[1 0 0 0 3 9]\n",
      " [1 8 0 6 2 9]\n",
      " [1 8 6 7 3 3]\n",
      " [4 6 8 9 1 2]]\n",
      " \n",
      "The dot product between column 1 is: [37.  0.  0.  0.  0.  0.]\n",
      "The dot product between column 2 is: [ 37. 166.   0.   0.   0.   0.]\n",
      "The dot product between column 3 is: [ 37. 166.  48.   0.   0.   0.]\n",
      "The dot product between column 4 is: [ 37. 166.  48.  66.   0.   0.]\n",
      "The dot product between column 5 is: [ 37. 166.  48.  66.  43.   0.]\n",
      "The dot product between column 6 is: [ 37. 166.  48.  66.  43. 110.]\n",
      " \n",
      "[ 37. 166.  48.  66.  43. 110.]\n"
     ]
    }
   ],
   "source": [
    "import numpy as np\n",
    "\n",
    "rows = 6\n",
    "col = 4\n",
    "\n",
    "# below, generate matrices of integers, bounds [0,9), size 4 x 6 (R x C)\n",
    "A = np.random.randint(10,size=(col, rows))\n",
    "B = np.random.randint(10,size=(col, rows))\n",
    "\n",
    "print('A:\\n' + str(A))\n",
    "print(' ')\n",
    "print('B:\\n' + str(B))\n",
    "print(' ')\n",
    "\n",
    "dps = np.zeros(6)  # dps : [0., 0., 0., 0., 0., 0.]\n",
    "for i in range(6):\n",
    "    dps[i] = np.dot(A[:, i], B[:, i]) # traverse all columns\n",
    "    print(f'The dot product between column {i+1} is: {dps}')\n",
    "\n",
    "print(' ')\n",
    "print(dps)"
   ]
  }
 ],
 "metadata": {
  "kernelspec": {
   "display_name": "Python 3",
   "language": "python",
   "name": "python3"
  },
  "language_info": {
   "codemirror_mode": {
    "name": "ipython",
    "version": 2
   },
   "file_extension": ".py",
   "mimetype": "text/x-python",
   "name": "python",
   "nbconvert_exporter": "python",
   "pygments_lexer": "ipython2",
   "version": "2.7.6"
  }
 },
 "nbformat": 4,
 "nbformat_minor": 0
}