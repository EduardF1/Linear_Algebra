{
 "cells": [
  {
   "cell_type": "code",
   "execution_count": 2,
   "metadata": {
    "collapsed": true
   },
   "outputs": [
    {
     "name": "stdout",
     "output_type": "stream",
     "text": [
      "-6.24265777729837 -6.24265777729837 0.0\n",
      " \n",
      "26 26\n"
     ]
    }
   ],
   "source": [
    "import numpy as np\n",
    "\n",
    "# Is the dot product commutative ?\n",
    "# a'*b == b'*a\n",
    "\n",
    "# 1) Generate 2 100-element random row vectors, compute dot product a with b, b with a\n",
    "# 2) Generate 2 2-element integer row vectors, repeat\n",
    "\n",
    "# generate two 100-element vectors\n",
    "a = np.random.randn(100)\n",
    "b = np.random.randn(100)\n",
    "\n",
    "# compute a'*b and b'*a, test for equality\n",
    "dp_ab = np.dot(a,b)\n",
    "dp_ba = np.dot(b,a)\n",
    "\n",
    "print(dp_ab, dp_ba, dp_ab - dp_ba)\n",
    "print(' ')\n",
    "\n",
    "# test with 2-element random vectors\n",
    "v = [2,4]\n",
    "w = [3,5]\n",
    "print(np.dot(v,w), np.dot(w,v))"
   ]
  }
 ],
 "metadata": {
  "kernelspec": {
   "display_name": "Python 3",
   "language": "python",
   "name": "python3"
  },
  "language_info": {
   "codemirror_mode": {
    "name": "ipython",
    "version": 2
   },
   "file_extension": ".py",
   "mimetype": "text/x-python",
   "name": "python",
   "nbconvert_exporter": "python",
   "pygments_lexer": "ipython2",
   "version": "2.7.6"
  }
 },
 "nbformat": 4,
 "nbformat_minor": 0
}