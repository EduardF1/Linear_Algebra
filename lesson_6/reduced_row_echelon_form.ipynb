{
 "cells": [
  {
   "cell_type": "code",
   "execution_count": 1,
   "metadata": {
    "collapsed": true
   },
   "outputs": [
    {
     "name": "stdout",
     "output_type": "stream",
     "text": [
      "[[1 0 0 0]\n",
      " [0 1 0 0]\n",
      " [0 0 1 0]\n",
      " [0 0 0 1]]\n",
      " \n",
      "[[1 0 0]\n",
      " [0 1 0]\n",
      " [0 0 1]\n",
      " [0 0 0]]\n"
     ]
    }
   ],
   "source": [
    "import numpy as np\n",
    "from sympy import *\n",
    "\n",
    "# make some random matrices (convert np matrix to sympy matrix)\n",
    "A = Matrix(np.random.randn(4,4))\n",
    "B = Matrix(np.random.randn(4,3))\n",
    "\n",
    "# compute R.R.E.F\n",
    "rrefA = A.rref()\n",
    "rrefB = B.rref()\n",
    "\n",
    "# print the matrices and their respective rrefs\n",
    "print(np.array(rrefA[0]))\n",
    "print(' ')\n",
    "print(np.array(rrefB[0]))\n"
   ]
  },
  {
   "cell_type": "code",
   "execution_count": 3,
   "outputs": [
    {
     "name": "stdout",
     "output_type": "stream",
     "text": [
      "[[0 7 6 3 2]\n",
      " [1 3 9 0 1]\n",
      " [2 2 4 0 1]\n",
      " [9 1 8 8 7]\n",
      " [8 9 0 0 4]]\n",
      "[[7 7 6 3 2]\n",
      " [3 3 9 0 1]\n",
      " [2 2 4 0 1]\n",
      " [1 1 8 8 7]\n",
      " [9 9 0 0 4]]\n",
      "[[1 1 0 0 0]\n",
      " [0 0 1 0 0]\n",
      " [0 0 0 1 0]\n",
      " [0 0 0 0 1]\n",
      " [0 0 0 0 0]]\n"
     ]
    }
   ],
   "source": [
    "# RREF of different (random) matrices\n",
    "# - square\n",
    "# - rectangular (tall,wide)\n",
    "# - linear dependencies (on C, on R)\n",
    "\n",
    "# square\n",
    "m = n = 5\n",
    "A = np.random.randint(10, size=(m, n))\n",
    "\n",
    "# add linear dependency (C1 = C2)\n",
    "A[:, 0] = A[:, 1]\n",
    "print(np.array(Matrix(A).rref()[0]))"
   ],
   "metadata": {
    "collapsed": false,
    "pycharm": {
     "name": "#%%\n"
    }
   }
  }
 ],
 "metadata": {
  "kernelspec": {
   "display_name": "Python 3",
   "language": "python",
   "name": "python3"
  },
  "language_info": {
   "codemirror_mode": {
    "name": "ipython",
    "version": 2
   },
   "file_extension": ".py",
   "mimetype": "text/x-python",
   "name": "python",
   "nbconvert_exporter": "python",
   "pygments_lexer": "ipython2",
   "version": "2.7.6"
  }
 },
 "nbformat": 4,
 "nbformat_minor": 0
}