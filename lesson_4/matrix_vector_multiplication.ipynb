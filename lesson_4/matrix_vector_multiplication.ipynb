{
 "cells": [
  {
   "cell_type": "code",
   "execution_count": 4,
   "metadata": {
    "collapsed": true
   },
   "outputs": [
    {
     "name": "stdout",
     "output_type": "stream",
     "text": [
      "[[ -7   9  -6  10]\n",
      " [ 10  -3   7  -2]\n",
      " [ -8 -10   5   5]\n",
      " [ -4  -5  -5 -10]]\n",
      " \n",
      "[[ 3.  6.  3. -2.]\n",
      " [ 6.  1. -4.  1.]\n",
      " [ 3. -4.  2. -2.]\n",
      " [-2.  1. -2.  6.]]\n",
      " \n",
      "[-4. -8. -5. 12.]\n",
      "[-4. -8. -5. 12.]\n",
      "[-4. -8. -5. 12.]\n",
      "[-4. -8. -5. 12.]\n",
      "[-4. -8. -5. 12.]\n",
      " \n",
      "[ 21  -7  23 -21]\n",
      "[ -9 -29   1 -25]\n",
      "[ -9 -29   1 -25]\n",
      "[ 21  -7  23 -21]\n",
      "[ -9 -29   1 -25]\n"
     ]
    }
   ],
   "source": [
    "import numpy as np\n",
    "\n",
    "# number of elements\n",
    "m = 4\n",
    "\n",
    "# create matrices\n",
    "N = np.random.randint(-10, 11, (m, m))\n",
    "S = np.round(N.T * N / m ** 2)  # scaled symmetric\n",
    "\n",
    "print(N), print(' ')\n",
    "print(S), print(' ')\n",
    "\n",
    "# create a vector\n",
    "w = np.array([-1, 0, 1, 2])\n",
    "\n",
    "# multiply vector with S (symmetric matrix)\n",
    "print(S @ w)\n",
    "print(S.T @ w)\n",
    "print(w @ S)\n",
    "print(w.T @ S.T)\n",
    "print(w.T @ S)\n",
    "\n",
    "print(' ')\n",
    "# multiply vector with N (non-symmetric matrix)\n",
    "print(N @ w)\n",
    "print(N.T @ w)\n",
    "print(w @ N)\n",
    "print(w.T @ N.T)\n",
    "print(w.T @ N)"
   ]
  }
 ],
 "metadata": {
  "kernelspec": {
   "display_name": "Python 3",
   "language": "python",
   "name": "python3"
  },
  "language_info": {
   "codemirror_mode": {
    "name": "ipython",
    "version": 2
   },
   "file_extension": ".py",
   "mimetype": "text/x-python",
   "name": "python",
   "nbconvert_exporter": "python",
   "pygments_lexer": "ipython2",
   "version": "2.7.6"
  }
 },
 "nbformat": 4,
 "nbformat_minor": 0
}