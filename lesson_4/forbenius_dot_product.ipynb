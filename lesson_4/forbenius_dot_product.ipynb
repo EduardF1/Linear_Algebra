{
 "cells": [
  {
   "cell_type": "code",
   "execution_count": 1,
   "metadata": {
    "collapsed": true
   },
   "outputs": [
    {
     "name": "stdout",
     "output_type": "stream",
     "text": [
      "664\n",
      "664\n",
      "28.74021572639983\n",
      "28.74021572639983\n"
     ]
    }
   ],
   "source": [
    "import numpy as np\n",
    "\n",
    "# matrix sizes\n",
    "m = 9\n",
    "n = 4\n",
    "\n",
    "# declare two matrices\n",
    "A = np.random.randint(10, size=(m, n))\n",
    "B = np.random.randint(10, size=(m, n))\n",
    "\n",
    "# vectorize, then compute vector-dot-product\n",
    "Av = np.reshape(A, m * n, order='F')  # order='F' reshapes by columns instead of by rows\n",
    "Bv = np.reshape(B, m * n, order='F')\n",
    "frobenius_dp = np.dot(Av, Bv)\n",
    "\n",
    "# using the trace\n",
    "frobenius_dp2 = np.trace(A.T @ B)\n",
    "print(frobenius_dp2)\n",
    "print(frobenius_dp)\n",
    "\n",
    "# matrix norm\n",
    "normA = np.linalg.norm(A, 'fro')\n",
    "normA2 = np.sqrt(np.trace(A.T @ A))\n",
    "print(normA)\n",
    "print(normA2)"
   ]
  }
 ],
 "metadata": {
  "kernelspec": {
   "display_name": "Python 3",
   "language": "python",
   "name": "python3"
  },
  "language_info": {
   "codemirror_mode": {
    "name": "ipython",
    "version": 2
   },
   "file_extension": ".py",
   "mimetype": "text/x-python",
   "name": "python",
   "nbconvert_exporter": "python",
   "pygments_lexer": "ipython2",
   "version": "2.7.6"
  }
 },
 "nbformat": 4,
 "nbformat_minor": 0
}