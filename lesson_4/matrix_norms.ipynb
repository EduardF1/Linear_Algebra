{
 "cells": [
  {
   "cell_type": "code",
   "execution_count": 2,
   "metadata": {
    "collapsed": true
   },
   "outputs": [
    {
     "name": "stdout",
     "output_type": "stream",
     "text": [
      "2.2360679774997894 1.0 5.0\n"
     ]
    }
   ],
   "source": [
    "import numpy as np\n",
    "\n",
    "# create a matrix\n",
    "A = np.array([ [1,3,2],\n",
    "               [4,5,6],\n",
    "               [7,7,9] ])\n",
    "\n",
    "m = 5\n",
    "# optional orthogonal matrix to show that 2-norm is 1 (ex. of QR decomposition)\n",
    "# QR decomposition means that a matrix is decomposed into 2 other matrices\n",
    "Q,R = np.linalg.qr(np.random.randint(10,size=(m,m)))\n",
    "# A = Q # Q is an orthogonal matrix\n",
    "\n",
    "# Frobenius norm\n",
    "normFrob = np.linalg.norm(A, 'fro')\n",
    "\n",
    "# induced 2-norm\n",
    "normInd2 = np.linalg.norm(A,2)\n",
    "# computed as below (mechanism)\n",
    "lamb = np.sqrt(np.max(np.linalg.eig(A.T@A)[0]))\n",
    "\n",
    "# schatten p-norm\n",
    "p = 1\n",
    "s = np.linalg.svd(A)[1] # get singular values\n",
    "normSchat = np.sum(s**p)**(1/p)\n",
    "\n",
    "# show all norms for comparison\n",
    "print(normFrob,normInd2,normSchat)"
   ]
  }
 ],
 "metadata": {
  "kernelspec": {
   "display_name": "Python 3",
   "language": "python",
   "name": "python3"
  },
  "language_info": {
   "codemirror_mode": {
    "name": "ipython",
    "version": 2
   },
   "file_extension": ".py",
   "mimetype": "text/x-python",
   "name": "python",
   "nbconvert_exporter": "python",
   "pygments_lexer": "ipython2",
   "version": "2.7.6"
  }
 },
 "nbformat": 4,
 "nbformat_minor": 0
}