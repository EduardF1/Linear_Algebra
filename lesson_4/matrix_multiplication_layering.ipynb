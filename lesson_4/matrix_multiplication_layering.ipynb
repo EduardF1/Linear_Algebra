{
 "cells": [
  {
   "cell_type": "code",
   "execution_count": 6,
   "metadata": {
    "collapsed": true
   },
   "outputs": [
    {
     "name": "stdout",
     "output_type": "stream",
     "text": [
      "[[117. 115. 160. 152.]\n",
      " [ 67.  47.  73.  81.]\n",
      " [166.  91. 131. 174.]\n",
      " [ 81. 109.  97. 105.]]\n",
      " \n",
      "[[117 115 160 152]\n",
      " [ 67  47  73  81]\n",
      " [166  91 131 174]\n",
      " [ 81 109  97 105]]\n",
      " \n",
      "[[0. 0. 0. 0.]\n",
      " [0. 0. 0. 0.]\n",
      " [0. 0. 0. 0.]\n",
      " [0. 0. 0. 0.]]\n"
     ]
    }
   ],
   "source": [
    "import numpy as np\n",
    "\n",
    "# generate two matrices\n",
    "m = 4\n",
    "n = 6\n",
    "\n",
    "A = np.random.randint(10, size=(m,n))\n",
    "B = np.random.randint(10, size=(n,m))\n",
    "\n",
    "# build the product matrix layer-wise\n",
    "C1 = np.zeros((m,m))\n",
    "for i in range(n):\n",
    "    C1 += np.outer(A[:,i], B[i,:])\n",
    "\n",
    "print(C1), print(' ')\n",
    "# implement matrix multiplication\n",
    "C2 = A@B\n",
    "print(C2), print(' ')\n",
    "\n",
    "# compare results\n",
    "print(C1-C2)"
   ]
  }
 ],
 "metadata": {
  "kernelspec": {
   "display_name": "Python 3",
   "language": "python",
   "name": "python3"
  },
  "language_info": {
   "codemirror_mode": {
    "name": "ipython",
    "version": 2
   },
   "file_extension": ".py",
   "mimetype": "text/x-python",
   "name": "python",
   "nbconvert_exporter": "python",
   "pygments_lexer": "ipython2",
   "version": "2.7.6"
  }
 },
 "nbformat": 4,
 "nbformat_minor": 0
}