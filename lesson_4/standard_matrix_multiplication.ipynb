{
 "cells": [
  {
   "cell_type": "code",
   "execution_count": 8,
   "metadata": {
    "collapsed": true
   },
   "outputs": [
    {
     "data": {
      "text/plain": "array([[ 40,  94, 136],\n       [137, 124, 146],\n       [ 90,  85, 139],\n       [104,  75, 111]])"
     },
     "execution_count": 8,
     "metadata": {},
     "output_type": "execute_result"
    }
   ],
   "source": [
    "import numpy as np\n",
    "\n",
    "m = 4\n",
    "n = 3\n",
    "k = 6\n",
    "\n",
    "# create 3 matrices\n",
    "A = np.random.randint(10, size=(m, n))\n",
    "B = np.random.randint(10, size=(n, k))\n",
    "C = np.random.randint(10, size=(m, k))\n",
    "\n",
    "# test which multiplications are valid.\n",
    "\n",
    "np.matmul(A, B)\n",
    "np.matmul(A.T, C)\n",
    "np.matmul(np.matrix.transpose(B), B)\n",
    "np.matmul(C, B.T)"
   ]
  }
 ],
 "metadata": {
  "kernelspec": {
   "display_name": "Python 3",
   "language": "python",
   "name": "python3"
  },
  "language_info": {
   "codemirror_mode": {
    "name": "ipython",
    "version": 2
   },
   "file_extension": ".py",
   "mimetype": "text/x-python",
   "name": "python",
   "nbconvert_exporter": "python",
   "pygments_lexer": "ipython2",
   "version": "2.7.6"
  }
 },
 "nbformat": 4,
 "nbformat_minor": 0
}