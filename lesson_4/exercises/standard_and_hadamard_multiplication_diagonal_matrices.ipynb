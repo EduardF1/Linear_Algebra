{
 "cells": [
  {
   "cell_type": "code",
   "execution_count": 3,
   "metadata": {
    "collapsed": true
   },
   "outputs": [
    {
     "name": "stdout",
     "output_type": "stream",
     "text": [
      "[[6 2 9 1]\n",
      " [6 3 0 3]\n",
      " [5 5 8 2]\n",
      " [9 0 7 1]]\n",
      " \n",
      "[[7 0 0 0]\n",
      " [0 3 0 0]\n",
      " [0 0 4 0]\n",
      " [0 0 0 7]]\n",
      " \n",
      "[[102  63 133  31]\n",
      " [ 81  21  75  18]\n",
      " [118  65 123  38]\n",
      " [ 98  53 144  24]]\n",
      " \n",
      "[[36  4 81  1]\n",
      " [36  9  0  9]\n",
      " [25 25 64  4]\n",
      " [81  0 49  1]]\n",
      " \n",
      "[[49  0  0  0]\n",
      " [ 0  9  0  0]\n",
      " [ 0  0 16  0]\n",
      " [ 0  0  0 49]]\n",
      " \n",
      "[[49  0  0  0]\n",
      " [ 0  9  0  0]\n",
      " [ 0  0 16  0]\n",
      " [ 0  0  0 49]]\n",
      " \n"
     ]
    },
    {
     "data": {
      "text/plain": "(None, None)"
     },
     "execution_count": 3,
     "metadata": {},
     "output_type": "execute_result"
    }
   ],
   "source": [
    "import numpy as np\n",
    "\n",
    "# create two square matrices: \"full\" and diagonal\n",
    "m = 4\n",
    "A = np.random.randint(10, size=(m,m))\n",
    "D = np.diag(np.random.randint(10, size=m))\n",
    "\n",
    "print(A), print(' ')\n",
    "print(D), print(' ')\n",
    "\n",
    "# multiply each matrix by itself (standard and hadamard)\n",
    "print(A@A), print(' ')\n",
    "print(A*A), print(' ')\n",
    "\n",
    "print(D@D), print(' ')\n",
    "print(D*D), print(' ')"
   ]
  }
 ],
 "metadata": {
  "kernelspec": {
   "display_name": "Python 3",
   "language": "python",
   "name": "python3"
  },
  "language_info": {
   "codemirror_mode": {
    "name": "ipython",
    "version": 2
   },
   "file_extension": ".py",
   "mimetype": "text/x-python",
   "name": "python",
   "nbconvert_exporter": "python",
   "pygments_lexer": "ipython2",
   "version": "2.7.6"
  }
 },
 "nbformat": 4,
 "nbformat_minor": 0
}