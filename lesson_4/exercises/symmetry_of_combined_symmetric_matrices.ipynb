{
 "cells": [
  {
   "cell_type": "code",
   "execution_count": 2,
   "metadata": {
    "collapsed": true
   },
   "outputs": [
    {
     "name": "stdout",
     "output_type": "stream",
     "text": [
      "[[4 0 6]\n",
      " [8 8 3]\n",
      " [4 7 9]]\n",
      " \n",
      "[[2 6 8]\n",
      " [8 2 6]\n",
      " [5 9 7]]\n",
      " \n",
      "[[0 0 0]\n",
      " [0 0 0]\n",
      " [0 0 0]]\n",
      " \n",
      "[[    0  3054  6699]\n",
      " [-3054     0  3813]\n",
      " [-6699 -3813     0]]\n",
      " \n",
      "[[0 0 0]\n",
      " [0 0 0]\n",
      " [0 0 0]]\n"
     ]
    }
   ],
   "source": [
    "import numpy as np\n",
    "\n",
    "# create two symmetric matrices\n",
    "m = 3\n",
    "A = np.random.randint(10, size=(m, m))\n",
    "A_tA = A.T @ A\n",
    "\n",
    "print(A), print(' ')\n",
    "\n",
    "B = np.random.randint(10, size=(m, m))\n",
    "B_tB = B.T @ B\n",
    "\n",
    "print(B), print(' ')\n",
    "\n",
    "# compute sum, multiplication and Hadamard multiplication\n",
    "Cs = A_tA + B_tB\n",
    "Cm = A_tA @ B_tB\n",
    "Ch = A_tA * B_tB\n",
    "\n",
    "# determine whether the result is symmetric\n",
    "print(Cs - Cs.T), print(' ')\n",
    "print(Cm - Cm.T), print(' ')\n",
    "print(Ch - Ch.T)"
   ]
  }
 ],
 "metadata": {
  "kernelspec": {
   "display_name": "Python 3",
   "language": "python",
   "name": "python3"
  },
  "language_info": {
   "codemirror_mode": {
    "name": "ipython",
    "version": 2
   },
   "file_extension": ".py",
   "mimetype": "text/x-python",
   "name": "python",
   "nbconvert_exporter": "python",
   "pygments_lexer": "ipython2",
   "version": "2.7.6"
  }
 },
 "nbformat": 4,
 "nbformat_minor": 0
}