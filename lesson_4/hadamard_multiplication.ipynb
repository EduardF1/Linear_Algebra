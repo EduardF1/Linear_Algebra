{
 "cells": [
  {
   "cell_type": "code",
   "execution_count": 3,
   "metadata": {
    "collapsed": true
   },
   "outputs": [
    {
     "name": "stdout",
     "output_type": "stream",
     "text": [
      "[[6 8]\n",
      " [3 5]\n",
      " [3 1]\n",
      " [9 8]\n",
      " [8 2]\n",
      " [8 2]\n",
      " [8 6]\n",
      " [7 1]\n",
      " [1 2]\n",
      " [7 3]]\n",
      " \n",
      "[[4 0]\n",
      " [4 9]\n",
      " [1 5]\n",
      " [4 7]\n",
      " [6 3]\n",
      " [3 0]\n",
      " [8 9]\n",
      " [6 7]\n",
      " [9 9]\n",
      " [1 2]]\n",
      " \n",
      "[[24  0]\n",
      " [12 45]\n",
      " [ 3  5]\n",
      " [36 56]\n",
      " [48  6]\n",
      " [24  0]\n",
      " [64 54]\n",
      " [42  7]\n",
      " [ 9 18]\n",
      " [ 7  6]]\n",
      " \n",
      "[[24  0]\n",
      " [12 45]\n",
      " [ 3  5]\n",
      " [36 56]\n",
      " [48  6]\n",
      " [24  0]\n",
      " [64 54]\n",
      " [42  7]\n",
      " [ 9 18]\n",
      " [ 7  6]]\n",
      " \n",
      "[[0 0]\n",
      " [0 0]\n",
      " [0 0]\n",
      " [0 0]\n",
      " [0 0]\n",
      " [0 0]\n",
      " [0 0]\n",
      " [0 0]\n",
      " [0 0]\n",
      " [0 0]]\n"
     ]
    }
   ],
   "source": [
    "import numpy as np\n",
    "\n",
    "# declare matrix sizes\n",
    "m = 10\n",
    "n = 2\n",
    "\n",
    "# create the matrices\n",
    "A = np.random.randint(10, size=(m, n))\n",
    "B = np.random.randint(10, size=(m, n))\n",
    "\n",
    "print(A), print(' ')\n",
    "print(B), print(' ')\n",
    "\n",
    "# Note: difference between matrix multiplication (using '@')\n",
    "C1 = np.multiply(A, B)\n",
    "C2 = A * B\n",
    "\n",
    "print(C1), print(' ')\n",
    "print(C2), print(' ')\n",
    "print(C1 - C2)"
   ]
  }
 ],
 "metadata": {
  "kernelspec": {
   "display_name": "Python 3",
   "language": "python",
   "name": "python3"
  },
  "language_info": {
   "codemirror_mode": {
    "name": "ipython",
    "version": 2
   },
   "file_extension": ".py",
   "mimetype": "text/x-python",
   "name": "python",
   "nbconvert_exporter": "python",
   "pygments_lexer": "ipython2",
   "version": "2.7.6"
  }
 },
 "nbformat": 4,
 "nbformat_minor": 0
}