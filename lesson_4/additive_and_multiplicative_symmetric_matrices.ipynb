{
 "cells": [
  {
   "cell_type": "code",
   "execution_count": 4,
   "metadata": {
    "collapsed": true,
    "pycharm": {
     "name": "#%%\n"
    }
   },
   "outputs": [
    {
     "name": "stdout",
     "output_type": "stream",
     "text": [
      "[[0. 0. 0. 0. 0.]\n",
      " [0. 0. 0. 0. 0.]\n",
      " [0. 0. 0. 0. 0.]\n",
      " [0. 0. 0. 0. 0.]\n",
      " [0. 0. 0. 0. 0.]]\n",
      "[[5 5 6]\n",
      " [8 2 0]\n",
      " [8 5 5]\n",
      " [4 2 3]\n",
      " [6 9 3]]\n"
     ]
    }
   ],
   "source": [
    "import numpy as np\n",
    "\n",
    "## the additive method\n",
    "\n",
    "# declare sizes\n",
    "m = n = 5\n",
    "\n",
    "# create matrices\n",
    "A = np.random.randint(10, size=(m, n))\n",
    "S = (A + A.T) / 2\n",
    "\n",
    "# Assumption that S-S^T should be 0, if so, S is symmetric\n",
    "print(S - S.T)"
   ]
  },
  {
   "cell_type": "code",
   "execution_count": 8,
   "outputs": [
    {
     "name": "stdout",
     "output_type": "stream",
     "text": [
      "(3, 3)\n",
      " \n",
      "(5, 5)\n",
      " \n",
      "[[0 0 0 0 0]\n",
      " [0 0 0 0 0]\n",
      " [0 0 0 0 0]\n",
      " [0 0 0 0 0]\n",
      " [0 0 0 0 0]]\n",
      " \n",
      "[[0 0 0]\n",
      " [0 0 0]\n",
      " [0 0 0]]\n",
      " \n"
     ]
    },
    {
     "data": {
      "text/plain": "(None, None)"
     },
     "execution_count": 8,
     "metadata": {},
     "output_type": "execute_result"
    }
   ],
   "source": [
    "## the multiplicative method\n",
    "\n",
    "# declare sizes\n",
    "m = 5\n",
    "n = 3\n",
    "\n",
    "# create matrices\n",
    "A = np.random.randint(10, size=(m, n))\n",
    "\n",
    "# below, A_t stands for A transposed\n",
    "A_tA = A.T @ A\n",
    "AA_t = A @ A.T\n",
    "\n",
    "# show that the matrices are square\n",
    "print(A_tA.shape), print(' ')\n",
    "print(AA_t.shape), print(' ')\n",
    "\n",
    "# show that the matrices are symmetric\n",
    "print(AA_t - AA_t.T), print(' ')\n",
    "print(A_tA - A_tA.T), print(' ')"
   ],
   "metadata": {
    "collapsed": false,
    "pycharm": {
     "name": "#%%\n"
    }
   }
  }
 ],
 "metadata": {
  "kernelspec": {
   "display_name": "Python 3",
   "language": "python",
   "name": "python3"
  },
  "language_info": {
   "codemirror_mode": {
    "name": "ipython",
    "version": 2
   },
   "file_extension": ".py",
   "mimetype": "text/x-python",
   "name": "python",
   "nbconvert_exporter": "python",
   "pygments_lexer": "ipython2",
   "version": "2.7.6"
  }
 },
 "nbformat": 4,
 "nbformat_minor": 0
}