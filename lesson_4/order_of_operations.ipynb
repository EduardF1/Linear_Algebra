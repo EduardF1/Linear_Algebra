{
 "cells": [
  {
   "cell_type": "code",
   "execution_count": 2,
   "metadata": {
    "collapsed": true
   },
   "outputs": [
    {
     "name": "stdout",
     "output_type": "stream",
     "text": [
      "[[5176 7164]\n",
      " [1696 2256]]\n",
      " \n",
      "[[5176 7164]\n",
      " [1696 2256]]\n",
      " \n",
      "[[0 0]\n",
      " [0 0]]\n"
     ]
    }
   ],
   "source": [
    "import numpy as np\n",
    "\n",
    "n = 2\n",
    "L = np.random.randint(10,size=(n,n))\n",
    "I = np.random.randint(10,size=(n,n))\n",
    "V = np.random.randint(10,size=(n,n))\n",
    "E = np.random.randint(10,size=(n,n))\n",
    "\n",
    "# result of 'forward' multiplication and then transpose\n",
    "res1 = np.matrix.transpose(L @ I @ V @ E)\n",
    "print(res1), print(' ')\n",
    "# result of 'flipped/backwards ' multiplication of transposed matrices\n",
    "res2 = E.T @ V.T @ I.T @ L.T\n",
    "print(res2), print(' ')\n",
    "\n",
    "# test for equality\n",
    "print(res1 - res2)"
   ]
  }
 ],
 "metadata": {
  "kernelspec": {
   "display_name": "Python 3",
   "language": "python",
   "name": "python3"
  },
  "language_info": {
   "codemirror_mode": {
    "name": "ipython",
    "version": 2
   },
   "file_extension": ".py",
   "mimetype": "text/x-python",
   "name": "python",
   "nbconvert_exporter": "python",
   "pygments_lexer": "ipython2",
   "version": "2.7.6"
  }
 },
 "nbformat": 4,
 "nbformat_minor": 0
}