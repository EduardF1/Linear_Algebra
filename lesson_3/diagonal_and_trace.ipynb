{
 "cells": [
  {
   "cell_type": "code",
   "execution_count": 3,
   "metadata": {
    "collapsed": true
   },
   "outputs": [
    {
     "name": "stdout",
     "output_type": "stream",
     "text": [
      "[[25 25 15 20]\n",
      " [ 5 45 40  5]\n",
      " [35 10 20 15]\n",
      " [40 25 40  0]]\n",
      " \n",
      "[25 45 20  0]\n",
      " \n",
      "[[25  0  0  0]\n",
      " [ 0 45  0  0]\n",
      " [ 0  0 20  0]\n",
      " [ 0  0  0  0]]\n",
      " \n",
      "90 90\n"
     ]
    }
   ],
   "source": [
    "import numpy as np\n",
    "\n",
    "scalar = 5\n",
    "M = np.round(scalar * np.random.randint(10, size=(4, 4)))\n",
    "print(M), print(' ')\n",
    "\n",
    "# extract the diagonals\n",
    "d = np.diag(M)  # matrix as input, output as vector\n",
    "D = np.diag(d)  # vector as input, output as matrix\n",
    "print(d), print(' ')\n",
    "print(D), print(' ')\n",
    "\n",
    "# trace as sum of diagonal elements\n",
    "tr = np.trace(M)\n",
    "tr2 = sum(np.diag(M))\n",
    "print(tr, tr2)"
   ]
  }
 ],
 "metadata": {
  "kernelspec": {
   "display_name": "Python 3",
   "language": "python",
   "name": "python3"
  },
  "language_info": {
   "codemirror_mode": {
    "name": "ipython",
    "version": 2
   },
   "file_extension": ".py",
   "mimetype": "text/x-python",
   "name": "python",
   "nbconvert_exporter": "python",
   "pygments_lexer": "ipython2",
   "version": "2.7.6"
  }
 },
 "nbformat": 4,
 "nbformat_minor": 0
}