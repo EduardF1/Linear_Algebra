{
 "cells": [
  {
   "cell_type": "code",
   "execution_count": 9,
   "metadata": {
    "collapsed": true,
    "pycharm": {
     "name": "#%%\n"
    }
   },
   "outputs": [
    {
     "name": "stdout",
     "output_type": "stream",
     "text": [
      "[[7 7 2 7 5]\n",
      " [4 7 5 6 2]\n",
      " [1 4 6 9 0]\n",
      " [7 6 3 7 6]\n",
      " [8 1 0 2 4]]\n",
      " \n",
      "[[0 4]\n",
      " [7 7]\n",
      " [2 6]\n",
      " [7 6]\n",
      " [9 0]]\n",
      " \n",
      "[[1. 0. 0.]\n",
      " [0. 1. 0.]\n",
      " [0. 0. 1.]]\n",
      " \n",
      "[[0. 0. 0. 0.]\n",
      " [0. 0. 0. 0.]\n",
      " [0. 0. 0. 0.]\n",
      " [0. 0. 0. 0.]]\n",
      " \n",
      "[[1 0 0 0 0]\n",
      " [0 2 0 0 0]\n",
      " [0 0 3 0 0]\n",
      " [0 0 0 5 0]\n",
      " [0 0 0 0 2]]\n",
      " \n",
      "[[4 8 4 8 4]\n",
      " [0 9 3 1 1]\n",
      " [0 0 9 8 1]\n",
      " [0 0 0 6 7]\n",
      " [0 0 0 0 3]]\n",
      " \n",
      "[[4 0 0 0 0]\n",
      " [6 9 0 0 0]\n",
      " [1 4 9 0 0]\n",
      " [6 7 3 6 0]\n",
      " [5 3 4 5 3]]\n",
      " \n",
      "[[6 3 6 6 6 7 4]\n",
      " [2 3 1 8 0 2 2]\n",
      " [0 9 7 7 6 0 0]]\n",
      " \n"
     ]
    },
    {
     "data": {
      "text/plain": "(None, None)"
     },
     "execution_count": 9,
     "metadata": {},
     "output_type": "execute_result"
    }
   ],
   "source": [
    "import numpy as np\n",
    "\n",
    "# square(5x5) vs rectangular(5x2)\n",
    "S = np.random.randint(10, size=(5, 5))\n",
    "R = np.random.randint(10, size=(5, 2))\n",
    "print(S), print(' ')\n",
    "print(R), print(' ')\n",
    "\n",
    "# Identity matrix (M for input)\n",
    "I = np.eye(3)\n",
    "print(I), print(' ')\n",
    "\n",
    "# Zeros matrix (tuple for input)\n",
    "Z = np.zeros((4, 4))\n",
    "print(Z), print(' ')\n",
    "\n",
    "# Diagonal matrix (list or np array for input)\n",
    "# Python will position the input elements on the diagonal of the matrix\n",
    "D = np.diag([1, 2, 3, 5, 2])\n",
    "print(D), print(' ')\n",
    "\n",
    "# Triangular matrix\n",
    "S = np.random.randint(10, size=(5, 5))\n",
    "U = np.triu(S)  # upper triangular matrix\n",
    "L = np.tril(S)  # lower triangular matrix\n",
    "print(U), print(' '), print(L), print(' ')\n",
    "\n",
    "# Concatenate matrices\n",
    "A = np.random.randint(10, size=(3,2))\n",
    "B = np.random.randint(10, size=(3,5))\n",
    "C = np.concatenate((A,B), axis=1)\n",
    "print(C), print(' ')"
   ]
  }
 ],
 "metadata": {
  "kernelspec": {
   "display_name": "Python 3",
   "language": "python",
   "name": "python3"
  },
  "language_info": {
   "codemirror_mode": {
    "name": "ipython",
    "version": 2
   },
   "file_extension": ".py",
   "mimetype": "text/x-python",
   "name": "python",
   "nbconvert_exporter": "python",
   "pygments_lexer": "ipython2",
   "version": "2.7.6"
  }
 },
 "nbformat": 4,
 "nbformat_minor": 0
}