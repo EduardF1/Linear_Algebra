{
 "cells": [
  {
   "cell_type": "code",
   "execution_count": 11,
   "metadata": {
    "collapsed": true
   },
   "outputs": [
    {
     "name": "stdout",
     "output_type": "stream",
     "text": [
      "[[1 2 3]\n",
      " [2 3 4]]\n",
      " \n",
      "[[1 2]\n",
      " [2 3]\n",
      " [3 4]]\n",
      " \n",
      "[[1 2 3]\n",
      " [2 3 4]]\n",
      " \n",
      "[[1 2]\n",
      " [2 3]\n",
      " [3 4]]\n",
      " \n",
      "[[4.+1.j 3.+0.j 2.-4.j]]\n",
      " \n",
      "[[4.+1.j]\n",
      " [3.+0.j]\n",
      " [2.-4.j]]\n",
      " \n",
      "[[4.+1.j]\n",
      " [3.+0.j]\n",
      " [2.-4.j]]\n",
      " \n",
      "[[4.-1.j]\n",
      " [3.-0.j]\n",
      " [2.+4.j]]\n"
     ]
    }
   ],
   "source": [
    "import numpy as np\n",
    "\n",
    "M = np.array([[1, 2, 3],\n",
    "              [2, 3, 4]])\n",
    "\n",
    "print(M), print(' ')\n",
    "print(M.T), print(' ')  # one transposition\n",
    "print(M.T.T), print(' ')  # double-transposition, returns the original matrix\n",
    "\n",
    "# using the transpose function\n",
    "print(np.transpose(M)), print(' ')\n",
    "\n",
    "# complex matrices\n",
    "C = np.array([[4+1j,\n",
    "              3,\n",
    "              2-4j]], dtype=complex)\n",
    "\n",
    "print(C), print(' ')\n",
    "print(C.T), print(' ')\n",
    "print(np.transpose(C)), print(' ')\n",
    "\n",
    "# hermitian transpose (flipped signs)\n",
    "print(np.matrix(C).H)"
   ]
  }
 ],
 "metadata": {
  "kernelspec": {
   "display_name": "Python 3",
   "language": "python",
   "name": "python3"
  },
  "language_info": {
   "codemirror_mode": {
    "name": "ipython",
    "version": 2
   },
   "file_extension": ".py",
   "mimetype": "text/x-python",
   "name": "python",
   "nbconvert_exporter": "python",
   "pygments_lexer": "ipython2",
   "version": "2.7.6"
  }
 },
 "nbformat": 4,
 "nbformat_minor": 0
}