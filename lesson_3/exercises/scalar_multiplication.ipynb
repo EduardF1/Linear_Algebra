{
 "cells": [
  {
   "cell_type": "code",
   "execution_count": 2,
   "metadata": {
    "collapsed": true
   },
   "outputs": [
    {
     "name": "stdout",
     "output_type": "stream",
     "text": [
      "[[117  90  90 108  54]\n",
      " [ 72 117 117  45 117]\n",
      " [ 36   0   9   0  36]\n",
      " [ 27  90 144  45  90]\n",
      " [  9 108  18  99   0]\n",
      " [ 72 108 126  81 126]\n",
      " [ 72 117  99  90  99]]\n",
      " \n",
      "[[117  90  90 108  54]\n",
      " [ 72 117 117  45 117]\n",
      " [ 36   0   9   0  36]\n",
      " [ 27  90 144  45  90]\n",
      " [  9 108  18  99   0]\n",
      " [ 72 108 126  81 126]\n",
      " [ 72 117  99  90  99]]\n",
      " \n",
      "[[0 0 0 0 0]\n",
      " [0 0 0 0 0]\n",
      " [0 0 0 0 0]\n",
      " [0 0 0 0 0]\n",
      " [0 0 0 0 0]\n",
      " [0 0 0 0 0]\n",
      " [0 0 0 0 0]]\n"
     ]
    }
   ],
   "source": [
    "import numpy as np\n",
    "\n",
    "# Is matrix-scalar multiplication a linear operation ?\n",
    "\n",
    "# matrix sizes\n",
    "m = 7\n",
    "n = 5\n",
    "\n",
    "# create two matrices\n",
    "A = np.random.randint(10, size=(m,n))\n",
    "B = np.random.randint(10, size=(m,n))\n",
    "\n",
    "# scalar\n",
    "s = np.random.randint(0, 10)\n",
    "\n",
    "# compute both sides of the equation\n",
    "result_L = s * (A+B)\n",
    "result_R = s*A + s*B\n",
    "\n",
    "print(result_L), print(' ')\n",
    "print(result_R), print(' ')\n",
    "\n",
    "print(result_L - result_R)"
   ]
  }
 ],
 "metadata": {
  "kernelspec": {
   "display_name": "Python 3",
   "language": "python",
   "name": "python3"
  },
  "language_info": {
   "codemirror_mode": {
    "name": "ipython",
    "version": 2
   },
   "file_extension": ".py",
   "mimetype": "text/x-python",
   "name": "python",
   "nbconvert_exporter": "python",
   "pygments_lexer": "ipython2",
   "version": "2.7.6"
  }
 },
 "nbformat": 4,
 "nbformat_minor": 0
}