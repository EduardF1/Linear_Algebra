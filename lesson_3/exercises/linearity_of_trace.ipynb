{
 "cells": [
  {
   "cell_type": "code",
   "execution_count": 3,
   "metadata": {
    "collapsed": true
   },
   "outputs": [
    {
     "name": "stdout",
     "output_type": "stream",
     "text": [
      "[[3 4 4 0]\n",
      " [2 0 6 0]\n",
      " [7 4 1 7]\n",
      " [0 6 0 4]]\n",
      " \n",
      "[[0 7 0 6]\n",
      " [0 8 1 1]\n",
      " [2 0 9 6]\n",
      " [7 2 7 1]]\n",
      " \n",
      "5\n",
      " \n",
      "tr(A+B) = 26\n",
      "tr(A)+tr(B) = 26\n",
      " \n",
      "tr(l*A) = 40\n",
      "l*tr(A) = 40\n"
     ]
    }
   ],
   "source": [
    "import numpy as np\n",
    "\n",
    "# Explore whether the trace is linear\n",
    "\n",
    "# tr(A) + tr(B) == tr(A + B) ?\n",
    "# tr(l*A) == l*tr(A)\n",
    "\n",
    "m = 4\n",
    "n = 4\n",
    "\n",
    "A = np.random.randint(10, size=(m, n))\n",
    "B = np.random.randint(10, size=(m, n))\n",
    "print(A), print(' ')\n",
    "print(B), print(' ')\n",
    "\n",
    "l = np.random.randint(0, 10)\n",
    "print(l), print(' ')\n",
    "\n",
    "print('tr(A+B) = ' + str(np.trace(A + B)))\n",
    "print('tr(A)+tr(B) = ' + str(np.trace(A) + np.trace(B)))\n",
    "\n",
    "print(' ')\n",
    "\n",
    "print('tr(l*A) = ' + str(np.trace(l * A)))\n",
    "print('l*tr(A) = ' + str(l * np.trace(A)))"
   ]
  }
 ],
 "metadata": {
  "kernelspec": {
   "display_name": "Python 3",
   "language": "python",
   "name": "python3"
  },
  "language_info": {
   "codemirror_mode": {
    "name": "ipython",
    "version": 2
   },
   "file_extension": ".py",
   "mimetype": "text/x-python",
   "name": "python",
   "nbconvert_exporter": "python",
   "pygments_lexer": "ipython2",
   "version": "2.7.6"
  }
 },
 "nbformat": 4,
 "nbformat_minor": 0
}