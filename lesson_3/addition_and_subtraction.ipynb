{
 "cells": [
  {
   "cell_type": "code",
   "execution_count": 3,
   "metadata": {
    "collapsed": true
   },
   "outputs": [
    {
     "name": "stdout",
     "output_type": "stream",
     "text": [
      "[[7 2 0 6]\n",
      " [6 6 3 5]\n",
      " [2 6 6 1]\n",
      " [2 6 9 9]\n",
      " [6 7 7 3]]\n",
      " \n",
      "[[8 5 8 4]\n",
      " [0 8 8 9]\n",
      " [2 8 9 3]\n",
      " [7 0 9 0]\n",
      " [6 2 0 3]]\n",
      " \n",
      "[[9 8 9 9]\n",
      " [6 2 5 4]\n",
      " [6 5 5 0]\n",
      " [1 5 7 0]\n",
      " [5 5 6 6]]\n",
      " \n",
      "[[15  7  8 10]\n",
      " [ 6 14 11 14]\n",
      " [ 4 14 15  4]\n",
      " [ 9  6 18  9]\n",
      " [12  9  7  6]]\n",
      " \n",
      "[[16 10  9 15]\n",
      " [12  8  8  9]\n",
      " [ 8 11 11  1]\n",
      " [ 3 11 16  9]\n",
      " [11 12 13  9]]\n",
      " \n",
      "[[8 5 6 9 8]\n",
      " [7 3 5 3 9]\n",
      " [9 1 2 5 6]\n",
      " [1 6 5 1 8]\n",
      " [5 4 3 3 5]]\n",
      " \n",
      "[[8.3 5.  6.  9.  8. ]\n",
      " [7.  3.3 5.  3.  9. ]\n",
      " [9.  1.  2.3 5.  6. ]\n",
      " [1.  6.  5.  1.3 8. ]\n",
      " [5.  4.  3.  3.  5.3]]\n"
     ]
    },
    {
     "data": {
      "text/plain": "(None, None, None)"
     },
     "execution_count": 3,
     "metadata": {},
     "output_type": "execute_result"
    }
   ],
   "source": [
    "import numpy as np\n",
    "\n",
    "# create random matrices\n",
    "A = np.random.randint(10, size=(5,4))\n",
    "B = np.random.randint(10, size=(5,4))\n",
    "C = np.random.randint(10, size=(5,4))\n",
    "print(A), print(' '), print(B), print(' '), print(C), print(' ')\n",
    "\n",
    "# Addition\n",
    "print(A+B), print(' ')\n",
    "print(A+C), print(' ')\n",
    "\n",
    "# Shifting a matrix\n",
    "l = .3 # lambda (Scalar)\n",
    "N = 5 # matrix size\n",
    "D = np.random.randint(10, size=(N,N))\n",
    "\n",
    "D_shifted = D + l*np.eye(N)\n",
    "print(D), print(' '), print(D_shifted)"
   ]
  }
 ],
 "metadata": {
  "kernelspec": {
   "display_name": "Python 3",
   "language": "python",
   "name": "python3"
  },
  "language_info": {
   "codemirror_mode": {
    "name": "ipython",
    "version": 2
   },
   "file_extension": ".py",
   "mimetype": "text/x-python",
   "name": "python",
   "nbconvert_exporter": "python",
   "pygments_lexer": "ipython2",
   "version": "2.7.6"
  }
 },
 "nbformat": 4,
 "nbformat_minor": 0
}