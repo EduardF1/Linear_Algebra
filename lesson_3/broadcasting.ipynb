{
 "cells": [
  {
   "cell_type": "code",
   "execution_count": 2,
   "metadata": {
    "collapsed": true
   },
   "outputs": [
    {
     "name": "stdout",
     "output_type": "stream",
     "text": [
      "[[ 1  4  7 10]\n",
      " [ 2  5  8 11]\n",
      " [ 3  6  9 12]]\n",
      " \n",
      "[10, 20, 30, 40]\n",
      " \n",
      "[100, 200, 300]\n",
      " \n",
      "[[11 24 37 50]\n",
      " [12 25 38 51]\n",
      " [13 26 39 52]]\n",
      " \n",
      "[[101 104 107 110]\n",
      " [202 205 208 211]\n",
      " [303 306 309 312]]\n"
     ]
    }
   ],
   "source": [
    "import numpy as np\n",
    "\n",
    "# create a matrix\n",
    "# create a vector with values [1,13) and reshape it as a matrix 3x4\n",
    "A = np.reshape(np.arange(1, 13), (3, 4), 'F')  # F = column, C = row\n",
    "\n",
    "# create two 'vectors'\n",
    "r = [10,20,30,40]\n",
    "c = [100,200,300]\n",
    "\n",
    "print(A), print(' ')\n",
    "print(r), print(' ')\n",
    "print(c), print(' ')\n",
    "\n",
    "# broadcast on the rows (works natively)\n",
    "print(A+r), print(' ')\n",
    "\n",
    "# broadcast on the columns (reshape c to be a 3x1 matrix or 3D vector\n",
    "print(A+np.reshape(c,(len(c),1)))\n",
    "\n",
    "# print"
   ]
  }
 ],
 "metadata": {
  "kernelspec": {
   "display_name": "Python 3",
   "language": "python",
   "name": "python3"
  },
  "language_info": {
   "codemirror_mode": {
    "name": "ipython",
    "version": 2
   },
   "file_extension": ".py",
   "mimetype": "text/x-python",
   "name": "python",
   "nbconvert_exporter": "python",
   "pygments_lexer": "ipython2",
   "version": "2.7.6"
  }
 },
 "nbformat": 4,
 "nbformat_minor": 0
}