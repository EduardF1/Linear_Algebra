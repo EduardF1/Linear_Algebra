{
 "cells": [
  {
   "cell_type": "code",
   "execution_count": 7,
   "metadata": {
    "collapsed": true
   },
   "outputs": [
    {
     "name": "stdout",
     "output_type": "stream",
     "text": [
      "A_tA:   [20 34  2  4 16]\n",
      "\t[34 74  7 14 29]\n",
      "\t, rank=2\n",
      " \n",
      "B_tB:   [68 86 22 48 20]\n",
      "\t[ 86 130  58  73  51]\n",
      "\t, rank=2\n",
      " \n",
      "rank(A_tA*B_tB):2\n",
      " \n",
      "rank(A_tA+B_tB):4\n",
      " \n"
     ]
    },
    {
     "data": {
      "text/plain": "(None, None)"
     },
     "execution_count": 7,
     "metadata": {},
     "output_type": "execute_result"
    }
   ],
   "source": [
    "import numpy as np\n",
    "\n",
    "# rules: rank(AB) <= min( rank(A), rank(B) )\n",
    "#        rank(A+B) <= rank(A) + rank(B)\n",
    "# matrix sizes\n",
    "m = 2\n",
    "n = 5\n",
    "\n",
    "A = np.random.randint(10, size=(m, n))\n",
    "B = np.random.randint(10, size=(m, n))\n",
    "\n",
    "A_tA = np.transpose(A) @ A\n",
    "B_tB = np.transpose(B) @ B\n",
    "\n",
    "nl_and_tab = '\\n\\t'\n",
    "print(f'A_tA:   {A_tA[0]}{nl_and_tab}{A_tA[1]}{nl_and_tab}, rank={np.linalg.matrix_rank(A_tA)}'), print(' ')\n",
    "print(f'B_tB:   {B_tB[0]}{nl_and_tab}{B_tB[1]}{nl_and_tab}, rank={np.linalg.matrix_rank(B_tB)}'), print(' ')\n",
    "print('rank(A_tA*B_tB):' + str(np.linalg.matrix_rank(A_tA @ B_tB))), print(' ')\n",
    "print('rank(A_tA+B_tB):' + str(np.linalg.matrix_rank(A_tA + B_tB))), print(' ')\n",
    "\n",
    "\n"
   ]
  }
 ],
 "metadata": {
  "kernelspec": {
   "display_name": "Python 3",
   "language": "python",
   "name": "python3"
  },
  "language_info": {
   "codemirror_mode": {
    "name": "ipython",
    "version": 2
   },
   "file_extension": ".py",
   "mimetype": "text/x-python",
   "name": "python",
   "nbconvert_exporter": "python",
   "pygments_lexer": "ipython2",
   "version": "2.7.6"
  }
 },
 "nbformat": 4,
 "nbformat_minor": 0
}