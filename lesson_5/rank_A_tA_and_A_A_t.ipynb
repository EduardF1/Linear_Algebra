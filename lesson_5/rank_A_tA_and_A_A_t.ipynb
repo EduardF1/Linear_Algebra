{
 "cells": [
  {
   "cell_type": "code",
   "execution_count": 19,
   "metadata": {
    "collapsed": true
   },
   "outputs": [
    {
     "name": "stdout",
     "output_type": "stream",
     "text": [
      "A_tA:   [436 356 203]\n",
      "\t[356 619 334]\n",
      "\t[203 334 281], rank=3\n",
      " \n",
      "AA_t:   [117  93  15 123  60 102 108  84  48  24  99  75  39  78]\n",
      "\t[ 93 155  75  98  92 108 105 111 111  74 132 104  40 142]\n",
      "\t[15 75 51 16 42 34 29 45 63 46 54 44 12 72], rank=3\n"
     ]
    }
   ],
   "source": [
    "import numpy as np\n",
    "\n",
    "m = 14\n",
    "n = 3\n",
    "\n",
    "# create matrices\n",
    "A = np.random.randint(10, size=(m,n))\n",
    "\n",
    "A_tA = np.transpose(A) @ A\n",
    "AA_t = A @ np.transpose(A)\n",
    "nl_and_tab = '\\n\\t'\n",
    "print(f'A_tA:   {A_tA[0]}{nl_and_tab}{A_tA[1]}{nl_and_tab}{A_tA[2]}, rank={np.linalg.matrix_rank(A_tA)}'), print(' ')\n",
    "print(f'AA_t:   {AA_t[0]}{nl_and_tab}{AA_t[1]}{nl_and_tab}{AA_t[2]}, rank={np.linalg.matrix_rank(AA_t)}')"
   ]
  }
 ],
 "metadata": {
  "kernelspec": {
   "display_name": "Python 3",
   "language": "python",
   "name": "python3"
  },
  "language_info": {
   "codemirror_mode": {
    "name": "ipython",
    "version": 2
   },
   "file_extension": ".py",
   "mimetype": "text/x-python",
   "name": "python",
   "nbconvert_exporter": "python",
   "pygments_lexer": "ipython2",
   "version": "2.7.6"
  }
 },
 "nbformat": 4,
 "nbformat_minor": 0
}