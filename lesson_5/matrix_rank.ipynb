{
 "cells": [
  {
   "cell_type": "code",
   "execution_count": 1,
   "metadata": {
    "collapsed": true
   },
   "outputs": [
    {
     "name": "stdout",
     "output_type": "stream",
     "text": [
      "rank(A) = 4\n",
      "rank(B) = 3\n"
     ]
    }
   ],
   "source": [
    "import numpy as np\n",
    "\n",
    "# make a matrix\n",
    "m = 4\n",
    "n = 6\n",
    "\n",
    "# create matrix\n",
    "A = np.random.randint(10, size=(m,n))\n",
    "\n",
    "# determine largest possible rank\n",
    "rank_a = np.linalg.matrix_rank(A)\n",
    "print('rank(A) = ' + str(rank_a))\n",
    "\n",
    "# method for creating a reduced rank matrix\n",
    "B = A\n",
    "# B[:,-1] = B[:,-2] # set last column of B to be repeat of penultimate column. The rank will be 4\n",
    "B[-1,:] = B[-2,:] # set last row of B to be repeat of penultimate row. The rank will be 3\n",
    "\n",
    "\n",
    "rank_b = np.linalg.matrix_rank(B)\n",
    "print('rank(B) = ' + str(rank_b))"
   ]
  },
  {
   "cell_type": "code",
   "execution_count": 2,
   "outputs": [
    {
     "name": "stdout",
     "output_type": "stream",
     "text": [
      "rank (w/o noise) = 3\n",
      "rank (with noise) = 4\n"
     ]
    }
   ],
   "source": [
    "# adding noise to a rank-deficient matrix\n",
    "\n",
    "# square matrix for convenience\n",
    "A = np.round(10 * np.random.randint(10, size=(m, m)))\n",
    "\n",
    "# reduce the rank\n",
    "A[:, -1] = A[:, -2]\n",
    "\n",
    "# noise level\n",
    "noiseamp = .001\n",
    "\n",
    "# add noise\n",
    "B = A + noiseamp * np.random.randint(10, size=(m, m))\n",
    "\n",
    "print('rank (w/o noise) = ' + str(np.linalg.matrix_rank(A)))\n",
    "print('rank (with noise) = ' + str(np.linalg.matrix_rank(B)))"
   ],
   "metadata": {
    "collapsed": false,
    "pycharm": {
     "name": "#%%\n"
    }
   }
  }
 ],
 "metadata": {
  "kernelspec": {
   "display_name": "Python 3",
   "language": "python",
   "name": "python3"
  },
  "language_info": {
   "codemirror_mode": {
    "name": "ipython",
    "version": 2
   },
   "file_extension": ".py",
   "mimetype": "text/x-python",
   "name": "python",
   "nbconvert_exporter": "python",
   "pygments_lexer": "ipython2",
   "version": "2.7.6"
  }
 },
 "nbformat": 4,
 "nbformat_minor": 0
}