{
 "cells": [
  {
   "cell_type": "code",
   "execution_count": 5,
   "metadata": {
    "collapsed": true
   },
   "outputs": [
    {
     "name": "stdout",
     "output_type": "stream",
     "text": [
      "[[ 71.  27.  48. -10.]\n",
      " [ 27.  30. -24. -14.]\n",
      " [ 48. -24. 181.  23.]\n",
      " [-10. -14.  23.   8.]]\n",
      "-----------------\n",
      "[[ 27.  27.  48. -10.]\n",
      " [ 30.  30. -24. -14.]\n",
      " [-24. -24. 181.  23.]\n",
      " [-14. -14.  23.   8.]]\n",
      "rank(w/o shifting) = 3\n",
      "rank(with shifting) = 4\n"
     ]
    }
   ],
   "source": [
    "import numpy as np\n",
    "\n",
    "# matrix size\n",
    "m = 30\n",
    "\n",
    "# create square symmetric matrix\n",
    "A = np.random.randn(m, m)\n",
    "A = np.round(10 * A.T @ A)\n",
    "print(A), print('-----------------')\n",
    "# reduce matrix rank (set C0 = C1)\n",
    "A[:, 0] = A[:, 1]\n",
    "print(A)\n",
    "# shift amount/weight (l = lambda)\n",
    "l = .01\n",
    "\n",
    "# resulting matrix\n",
    "B = A + l * np.eye(m, m)\n",
    "\n",
    "# display info\n",
    "print('rank(w/o shifting) = %d' % np.linalg.matrix_rank(A))\n",
    "print('rank(with shifting) = %d' % np.linalg.matrix_rank(B))"
   ]
  }
 ],
 "metadata": {
  "kernelspec": {
   "display_name": "Python 3",
   "language": "python",
   "name": "python3"
  },
  "language_info": {
   "codemirror_mode": {
    "name": "ipython",
    "version": 2
   },
   "file_extension": ".py",
   "mimetype": "text/x-python",
   "name": "python",
   "nbconvert_exporter": "python",
   "pygments_lexer": "ipython2",
   "version": "2.7.6"
  }
 },
 "nbformat": 4,
 "nbformat_minor": 0
}