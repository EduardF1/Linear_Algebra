{
 "cells": [
  {
   "cell_type": "code",
   "execution_count": 13,
   "metadata": {
    "collapsed": true
   },
   "outputs": [
    {
     "name": "stdout",
     "output_type": "stream",
     "text": [
      "[[1]\n",
      " [2]\n",
      " [3]\n",
      " [4]]\n",
      " \n",
      "[[4 0]\n",
      " [3 4]\n",
      " [6 0]\n",
      " [2 1]]\n",
      " \n",
      "[[1 0]\n",
      " [2 0]\n",
      " [2 1]\n",
      " [2 2]]\n",
      " \n",
      "[[4 0 1]\n",
      " [3 4 2]\n",
      " [6 0 3]\n",
      " [2 1 4]]\n",
      " \n",
      "[[1 0 1]\n",
      " [2 0 2]\n",
      " [2 1 3]\n",
      " [2 2 4]]\n",
      " \n",
      "3\n",
      "2\n"
     ]
    }
   ],
   "source": [
    "# Problem: determine whether the following vector 'v' is in the span of the sets S,T\n",
    "import numpy as np\n",
    "\n",
    "# declare vector\n",
    "v = np.array([[1,2,3,4]]).T # transpose\n",
    "print(v), print(' ')\n",
    "\n",
    "# declare sets S and T and convert them to matrices\n",
    "S = np.vstack(([4,3,6,2], [0,4,0,1])).T\n",
    "T = np.vstack(([1,2,2,2], [0,0,1,2])).T\n",
    "\n",
    "print(S),print(' ')\n",
    "print(T),print(' ')\n",
    "\n",
    "Sv = np.concatenate((S,v), axis=1)\n",
    "Tv = np.concatenate((T,v), axis=1)\n",
    "\n",
    "print(Sv),print(' ')\n",
    "print(Tv),print(' ')\n",
    "print(np.linalg.matrix_rank(Sv))\n",
    "print(np.linalg.matrix_rank(Tv))\n",
    "\n",
    "# Notes:\n",
    "# To determine whether a vector is in the span of a set, we concatenate the vector to the set's vector\n",
    "# matrices and observe any changes in the rank, if the rank increases, the vector is NOT within the span\n",
    "# of the set,otherwise, it is.\n",
    "#\n",
    "# As it can be seen, the rank of Sv has changed to 3 (previously 2, it adds new information to the matrix),\n",
    "# hence v is not in the span of set S.\n",
    "# Tv has a rank of 2 still as C3 (v) can be defined as C1+C2, hence v is in the span of set T (v does not\n",
    "# add new information to the matrix T).\n"
   ]
  }
 ],
 "metadata": {
  "kernelspec": {
   "display_name": "Python 3",
   "language": "python",
   "name": "python3"
  },
  "language_info": {
   "codemirror_mode": {
    "name": "ipython",
    "version": 2
   },
   "file_extension": ".py",
   "mimetype": "text/x-python",
   "name": "python",
   "nbconvert_exporter": "python",
   "pygments_lexer": "ipython2",
   "version": "2.7.6"
  }
 },
 "nbformat": 4,
 "nbformat_minor": 0
}