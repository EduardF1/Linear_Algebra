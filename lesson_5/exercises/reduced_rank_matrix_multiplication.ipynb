{
 "cells": [
  {
   "cell_type": "code",
   "execution_count": 3,
   "metadata": {
    "collapsed": true
   },
   "outputs": [
    {
     "name": "stdout",
     "output_type": "stream",
     "text": [
      "(10, 10)\n",
      "4\n",
      "(8, 47)\n",
      "3\n"
     ]
    }
   ],
   "source": [
    "import numpy as np\n",
    "\n",
    "a = 10\n",
    "b = 4\n",
    "\n",
    "A = np.random.randint(10, size=(a,b))\n",
    "B = np.random.randint(10, size=(b,a))\n",
    "C = A@B\n",
    "print(np.shape(C))\n",
    "print(np.linalg.matrix_rank(C))\n",
    "\n",
    "# generalize to MxN rank-r\n",
    "m = 8\n",
    "n = 47\n",
    "r = 3\n",
    "\n",
    "A = np.random.randint(10, size=(m,r)) @ \\\n",
    "    np.random.randint(10, size=(r,n))\n",
    "print(np.shape(A))\n",
    "print(np.linalg.matrix_rank(A))"
   ]
  }
 ],
 "metadata": {
  "kernelspec": {
   "display_name": "Python 3",
   "language": "python",
   "name": "python3"
  },
  "language_info": {
   "codemirror_mode": {
    "name": "ipython",
    "version": 2
   },
   "file_extension": ".py",
   "mimetype": "text/x-python",
   "name": "python",
   "nbconvert_exporter": "python",
   "pygments_lexer": "ipython2",
   "version": "2.7.6"
  }
 },
 "nbformat": 4,
 "nbformat_minor": 0
}