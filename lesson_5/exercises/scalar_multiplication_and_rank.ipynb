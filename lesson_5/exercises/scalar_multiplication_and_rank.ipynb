{
 "cells": [
  {
   "cell_type": "code",
   "execution_count": 5,
   "metadata": {
    "collapsed": true
   },
   "outputs": [
    {
     "name": "stdout",
     "output_type": "stream",
     "text": [
      "4\n",
      "4\n",
      " \n",
      "3\n",
      "3\n",
      " \n",
      "3.9000000000000004\n",
      "False\n"
     ]
    }
   ],
   "source": [
    "import numpy as np\n",
    "\n",
    "m = 6\n",
    "n = 4\n",
    "\n",
    "F = np.random.randint(10, size=(m, n))\n",
    "R = np.random.randint(10, size=(m, n - 1))\n",
    "\n",
    "l = 1.30\n",
    "\n",
    "print(np.linalg.matrix_rank(F))\n",
    "print(np.linalg.matrix_rank(l * F)), print(' ')\n",
    "print(np.linalg.matrix_rank(R))\n",
    "print(np.linalg.matrix_rank(l * R)), print(' ')\n",
    "print(np.array_equal(np.linalg.matrix_rank(l * R), l * np.linalg.matrix_rank(R)))"
   ]
  }
 ],
 "metadata": {
  "kernelspec": {
   "display_name": "Python 3",
   "language": "python",
   "name": "python3"
  },
  "language_info": {
   "codemirror_mode": {
    "name": "ipython",
    "version": 2
   },
   "file_extension": ".py",
   "mimetype": "text/x-python",
   "name": "python",
   "nbconvert_exporter": "python",
   "pygments_lexer": "ipython2",
   "version": "2.7.6"
  }
 },
 "nbformat": 4,
 "nbformat_minor": 0
}